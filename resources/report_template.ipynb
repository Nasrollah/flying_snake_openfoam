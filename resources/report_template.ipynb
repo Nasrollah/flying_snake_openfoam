{
 "metadata": {
  "name": "",
  "signature": "sha256:37ba097aec1eb0924090b2b46e05771b8bdada24038afedd2fa460f993f94ef9"
 },
 "nbformat": 3,
 "nbformat_minor": 0,
 "worksheets": [
  {
   "cells": [
    {
     "cell_type": "code",
     "collapsed": false,
     "input": [
      "%%javascript\n",
      "IPython.load_extensions('usability/codefolding/codefolding');"
     ],
     "language": "python",
     "metadata": {},
     "outputs": [
      {
       "javascript": [
        "IPython.load_extensions('usability/codefolding/codefolding');"
       ],
       "metadata": {},
       "output_type": "display_data",
       "text": [
        "<IPython.core.display.Javascript at 0x7f79f8832a90>"
       ]
      }
     ],
     "prompt_number": 1
    },
    {
     "cell_type": "markdown",
     "metadata": {},
     "source": [
      "# Template report Flying Snake"
     ]
    },
    {
     "cell_type": "code",
     "collapsed": false,
     "input": [
      "# imports\n",
      "import os\n",
      "\n",
      "from IPython.core.display import HTML\n",
      "from IPython.display import Image, display\n",
      "from IPython.html.widgets import interact\n",
      "\n",
      "%matplotlib inline"
     ],
     "language": "python",
     "metadata": {
      "code_folding": [
       0
      ]
     },
     "outputs": [],
     "prompt_number": 2
    },
    {
     "cell_type": "code",
     "collapsed": false,
     "input": [
      "# settings\n",
      "project_directory = os.environ['FLYING_SNAKE_OPENFOAM']\n",
      "scripts_directory = '%s/scripts' % project_directory\n",
      "resources_directory = '%s/resources' % project_directory\n",
      "case_directory = os.getcwd()"
     ],
     "language": "python",
     "metadata": {
      "code_folding": [
       0
      ]
     },
     "outputs": [],
     "prompt_number": 3
    },
    {
     "cell_type": "code",
     "collapsed": false,
     "input": [
      "def css_styling():\n",
      "    \"\"\"Loads the style of the notebook.\"\"\"\n",
      "    css_path = '%s/mesnardo_style.css' % resources_directory\n",
      "    styles = open(css_path, 'r').read()\n",
      "    return HTML(styles)\n",
      "css_styling()"
     ],
     "language": "python",
     "metadata": {
      "code_folding": [
       0
      ]
     },
     "outputs": [
      {
       "html": [
        "<link href='http://fonts.googleapis.com/css?family=Alegreya+Sans:100,300,400,500,700,800,900,100italic,300italic,400italic,500italic,700italic,800italic,900italic' rel='stylesheet' type='text/css'>\n",
        "<link href='http://fonts.googleapis.com/css?family=Arvo:400,700,400italic' rel='stylesheet' type='text/css'>\n",
        "<link href='http://fonts.googleapis.com/css?family=PT+Mono' rel='stylesheet' type='text/css'>\n",
        "<link href='http://fonts.googleapis.com/css?family=Shadows+Into+Light' rel='stylesheet' type='text/css'>\n",
        "<link href='http://fonts.googleapis.com/css?family=Nixie+One' rel='stylesheet' type='text/css'>\n",
        "<link href='http://fonts.googleapis.com/css?family=Raleway:400,200,800,500' rel='stylesheet' type='text/css'>\n",
        "<link href='http://fonts.googleapis.com/css?family=Muli:300,400,300italic,400italic' rel='stylesheet' type='text/css'>\n",
        "<link href='http://fonts.googleapis.com/css?family=Roboto:400,400italic,700,900' rel='stylesheet' type='text/css'>\n",
        "<link href='http://fonts.googleapis.com/css?family=Open+Sans:400italic,700italic,400,700,800' rel='stylesheet' type='text/css'>\n",
        "<link href='http://fonts.googleapis.com/css?family=Istok+Web:400,700,400italic' rel='stylesheet' type='text/css'>\n",
        "<link href='http://fonts.googleapis.com/css?family=PT+Sans:400,700,400italic,700italic' rel='stylesheet' type='text/css'>\n",
        "<style>\n",
        "\n",
        "@font-face {\n",
        "    font-family: \"Computer Modern\";\n",
        "    src: url('http://mirrors.ctan.org/fonts/cm-unicode/fonts/otf/cmunss.otf');\n",
        "}\n",
        "\n",
        "#notebook_panel { /* main background */\n",
        "\tbackground: #FFFFFF;\n",
        "}\n",
        "\n",
        "div.cell { /* set cell width to about 80 chars */\n",
        "    width: 800px;\n",
        "\tmargin-left: 10% !important;\n",
        "\tmargin-right: 10% !important;\n",
        "}\n",
        "\n",
        "div #notebook { /* centre the content */\n",
        "    background: #FFFFFF; /* white background for content */\n",
        "    width: 1200px;\n",
        "    margin: auto;\n",
        "    padding-left: 0%;\n",
        "    padding-right: 50%;\n",
        "}\n",
        "\n",
        "#notebook li { /* More space between bullet points */\n",
        "margin-top:0.8em;\n",
        "}\n",
        "\n",
        "/* draw border around running cells */\n",
        "div.cell.border-box-sizing.code_cell.running { \n",
        "    border: 1px solid #003366;\n",
        "}\n",
        "\n",
        "/* Put a solid color box around each cell and its output, visually linking them*/\n",
        "div.cell.code_cell {\n",
        "    background-color: #FFFFFF; \n",
        "    border-radius: 0px; \n",
        "    padding: 0.5em;\n",
        "    margin-top: 1em;\n",
        "}\n",
        "\n",
        "div.text_cell_render{\n",
        "    font-family: 'PT Sans', sans-serif;\n",
        "    line-height: 160%;\n",
        "    font-size: 120%;\n",
        "    font-weight: 400;\n",
        "    width: 600px;\n",
        "    margin-left: auto;\n",
        "    margin-right:auto;\n",
        "}\n",
        "\n",
        "\n",
        "/* Formatting for header cells */\n",
        ".text_cell_render h1 {\n",
        "    font-family: 'Nixie One', serif;\n",
        "    font-style: regular;\n",
        "    font-weight: 800;    \n",
        "    font-size: 40pt;\n",
        "    line-height: 100%;\n",
        "    color: #003366;\n",
        "    margin-bottom: 0.5em;\n",
        "    margin-top: 0.5em;\n",
        "    display: block;\n",
        "}\t\n",
        ".text_cell_render h2 {\n",
        "    font-family: 'Nixie One', serif;\n",
        "\tfont-style: regular;\n",
        "    font-weight: 800;\n",
        "    font-size: 30pt;\n",
        "    line-height: 100%;\n",
        "    color: #003366;\n",
        "    margin-bottom: 0.1em;\n",
        "    margin-top: 0.4em;\n",
        "    display: block;\n",
        "}\n",
        "\n",
        ".text_cell_render h3 {\n",
        "    font-family: 'Nixie One', serif;\n",
        "\tfont-style: regular;\n",
        "\tfont-size: 20pt;\n",
        "    font-weight: 800;\n",
        "\tline-height: 100%;\n",
        "\tcolor: #003366;\n",
        "    margin-bottom: 0.1em;\n",
        "\tmargin-top: 0.4em;\n",
        "    display: block;\n",
        "}\n",
        "\n",
        ".text_cell_render h4 {\n",
        "    font-family: 'Nixie One', serif;\n",
        "\tfont-style: italic;\n",
        "\tfont-size: 20pt;\n",
        "\tfont-weight: 800;\n",
        "\tline-height: 100%;\n",
        "\tcolor: #003366;\n",
        "\tmargin-bottom: 0.1em;\n",
        "\tmargin-top: 0.4em;\n",
        "\tdisplay: block;\n",
        "}\n",
        "\n",
        ".text_cell_render h5 {\n",
        "    font-family: 'Arvo', sans-serif;\n",
        "    font-weight: 400;\n",
        "    font-size: 16pt;\n",
        "    color: grey;\n",
        "    font-style: italic;\n",
        "    margin-bottom: .1em;\n",
        "    margin-top: 0.1em;\n",
        "    display: block;\n",
        "}\n",
        "\n",
        ".text_cell_render h6 {\n",
        "    font-family: 'PT Mono', sans-serif;\n",
        "    font-weight: 300;\n",
        "    font-size: 9pt;\n",
        "    line-height: 100%;\n",
        "    color: grey;\n",
        "    margin-bottom: 1px;\n",
        "    margin-top: 1px;\n",
        "}\n",
        "\n",
        ".CodeMirror{\n",
        "        font-family: \"PT Mono\";\n",
        "        font-size: 90%;\n",
        "}\n",
        "\n",
        "</style>\n"
       ],
       "metadata": {},
       "output_type": "pyout",
       "prompt_number": 4,
       "text": [
        "<IPython.core.display.HTML at 0x7f79e1f87290>"
       ]
      }
     ],
     "prompt_number": 4
    },
    {
     "cell_type": "markdown",
     "metadata": {},
     "source": [
      "## Objective"
     ]
    },
    {
     "cell_type": "markdown",
     "metadata": {},
     "source": [
      "Set objectives of the simulation.\n",
      "Mention comparison with other simulations."
     ]
    },
    {
     "cell_type": "markdown",
     "metadata": {},
     "source": [
      "## Settings"
     ]
    },
    {
     "cell_type": "markdown",
     "metadata": {},
     "source": [
      "Mention important settings of the simulation such as the grid refinement in different boxes, the time-increment, the size of the mesh."
     ]
    },
    {
     "cell_type": "markdown",
     "metadata": {},
     "source": [
      "## Force coefficients"
     ]
    },
    {
     "cell_type": "code",
     "collapsed": false,
     "input": [
      "# display instantaneous force coefficients\n",
      "script_path = '%s/plot_force_coefficients.py' % scripts_directory\n",
      "cuibm_path = ('%s/resources/flying_snake_cuibm_results/'\n",
      "              'flying_snake_1000_25/'\n",
      "              'force_coefficients_1000_25_cuibm'\n",
      "              % project_directory)\n",
      "arguments = ('--show --no-save '\n",
      "             '--cuibm %s ' % cuibm_path+\n",
      "             '--legend icoFoam_244K '\n",
      "             '--times 60.0 80.0 '\n",
      "             '--limits 0.0 80.0 0.5 2.5 '\n",
      "             '--reference %s ' % cuibm_path)\n",
      "%run $script_path $arguments"
     ],
     "language": "python",
     "metadata": {
      "code_folding": [
       0
      ]
     },
     "outputs": []
    },
    {
     "cell_type": "code",
     "collapsed": false,
     "input": [
      "# display  instantaneous force coefficients between 60 and 80s\n",
      "script_path = '%s/plot_force_coefficients.py' % scripts_directory\n",
      "cuibm_path = ('%s/resources/flying_snake_cuibm_results/'\n",
      "              'flying_snake_1000_25/'\n",
      "              'force_coefficients_1000_25_cuibm'\n",
      "              % project_directory)\n",
      "arguments = ('--show --no-save '\n",
      "             '--cuibm %s ' % cuibm_path+\n",
      "             '--compare ../flying_snake_1000_25_76K '\n",
      "             '--legend icoFoam_244K icoFoam_76K '\n",
      "             '--times 60.0 80.0 '\n",
      "             '--limits 60.0 80.0 0.5 2.5 '\n",
      "             '--reference %s ' % cuibm_path+\n",
      "             '--name force_coefficients_compare')\n",
      "%run $script_path $arguments"
     ],
     "language": "python",
     "metadata": {
      "code_folding": [
       0
      ]
     },
     "outputs": []
    },
    {
     "cell_type": "code",
     "collapsed": false,
     "input": [
      "# print force coefficients over the last period\n",
      "script_path = '%s/plot_force_coefficients.py' % scripts_directory\n",
      "cuibm_path = ('%s/resources/flying_snake_cuibm_results/'\n",
      "              'flying_snake_1000_25/'\n",
      "              'force_coefficients_1000_25_cuibm'\n",
      "              % project_directory)\n",
      "arguments = ('--no-save '\n",
      "             '--cuibm %s ' % cuibm_path+\n",
      "             '--compare ../flying_snake_1000_25_76K '\n",
      "             '--legend icoFoam_244K icoFoam_76K '\n",
      "             '--order 200 '\n",
      "             '--limits 60.0 80.0 0.5 2.5 '\n",
      "             '--reference %s ' % cuibm_path+\n",
      "             '--name force_coefficients_compare')\n",
      "%run $script_path $arguments"
     ],
     "language": "python",
     "metadata": {
      "code_folding": [
       0
      ]
     },
     "outputs": []
    },
    {
     "cell_type": "markdown",
     "metadata": {},
     "source": [
      "## Convergence of force coefficients"
     ]
    },
    {
     "cell_type": "code",
     "collapsed": false,
     "input": [
      "# display convergence of force coefficients\n",
      "script_path = '%s/analyze_force_coefficients.py' % scripts_directory\n",
      "arguments = ('--show '\n",
      "             '--times 60.0 80.0 '\n",
      "             '--limits-cd 0.7 1.1 '\n",
      "             '--limits-cl 1.0 2.2 '\n",
      "             '--order 200')\n",
      "%run $script_path $arguments"
     ],
     "language": "python",
     "metadata": {
      "code_folding": [
       0
      ]
     },
     "outputs": []
    },
    {
     "cell_type": "markdown",
     "metadata": {},
     "source": [
      "## Maximum Courant number"
     ]
    },
    {
     "cell_type": "code",
     "collapsed": false,
     "input": [
      "# call OpenFoam utility foamLog to extract data (residuals, Courant number...) \n",
      "os.system('foamLog simu.log');\n"
     ],
     "language": "python",
     "metadata": {
      "code_folding": [
       0
      ]
     },
     "outputs": []
    },
    {
     "cell_type": "code",
     "collapsed": false,
     "input": [
      "# display the maximum Courant number\n",
      "script_path = '%s/plot_courant_number.py' % scripts_directory\n",
      "arguments = ('--show '\n",
      "             '--times 0.0 80.0 '\n",
      "             '--limits 0.6 0.8')\n",
      "%run $script_path $arguments"
     ],
     "language": "python",
     "metadata": {
      "code_folding": [
       0
      ]
     },
     "outputs": []
    },
    {
     "cell_type": "markdown",
     "metadata": {},
     "source": [
      "## Vorticity near the snake"
     ]
    },
    {
     "cell_type": "code",
     "collapsed": false,
     "input": [
      "# generate images of the vorticity near the snake\n",
      "script_path = '%s/plot_variable.py' % scripts_directory\n",
      "arguments = ('--variable vorticity '\n",
      "             '--view snake')\n",
      "os.system(' '.join([script_path, arguments]));"
     ],
     "language": "python",
     "metadata": {
      "code_folding": [
       0
      ]
     },
     "outputs": []
    },
    {
     "cell_type": "code",
     "collapsed": false,
     "input": [
      "def display_images(shared_name, case_directory):\n",
      "    \"\"\"Displays images interactively.\n",
      "    \n",
      "    Arguments\n",
      "    ---------\n",
      "    shared_name -- shared name among images.\n",
      "    case_directory -- directory of the OpenFoam simulation.\n",
      "    \"\"\"\n",
      "    images_directory = '%s/images' % case_directory\n",
      "    images = sorted([image for image in os.listdir(images_directory)\n",
      "                     if os.path.basename(shared_name) in image and '.png' in image])\n",
      "    def view_image(index):\n",
      "        image = Image(filename=('%s/%s' % (images_directory, images[index])))\n",
      "        display(image)\n",
      "    interact(view_image, index=(0, len(images)-1))        "
     ],
     "language": "python",
     "metadata": {
      "code_folding": [
       0
      ]
     },
     "outputs": []
    },
    {
     "cell_type": "code",
     "collapsed": false,
     "input": [
      "display_images('vorticity_snake', case_directory)"
     ],
     "language": "python",
     "metadata": {},
     "outputs": []
    },
    {
     "cell_type": "code",
     "collapsed": false,
     "input": [
      "display_images('vorticity_snake', '../flying_snake_1000_25_76K')"
     ],
     "language": "python",
     "metadata": {},
     "outputs": []
    },
    {
     "cell_type": "markdown",
     "metadata": {},
     "source": [
      "## Vorticity in the wake"
     ]
    },
    {
     "cell_type": "code",
     "collapsed": false,
     "input": [
      "# generates images of the vorticity in the wake\n",
      "script_path = '%s/plot_variable.py' % scripts_directory\n",
      "arguments = ('--variable vorticity '\n",
      "             '--bottom-left -2.0 -5.0 '\n",
      "             '--top-right 30.0 5.0 '\n",
      "             '--width 600')\n",
      "os.system(' '.join([script_path, arguments]));"
     ],
     "language": "python",
     "metadata": {
      "code_folding": [
       0
      ]
     },
     "outputs": []
    },
    {
     "cell_type": "code",
     "collapsed": false,
     "input": [
      "display_images('vorticity_-2_-5_30_5', case_directory)"
     ],
     "language": "python",
     "metadata": {},
     "outputs": []
    },
    {
     "cell_type": "code",
     "collapsed": false,
     "input": [
      "display_images('vorticity_-2_-5_30_5', '../flying_snake_1000_25_76K')"
     ],
     "language": "python",
     "metadata": {},
     "outputs": []
    },
    {
     "cell_type": "markdown",
     "metadata": {},
     "source": [
      "## What's next?"
     ]
    },
    {
     "cell_type": "markdown",
     "metadata": {},
     "source": [
      "What could be doen to improve the simulation?"
     ]
    }
   ],
   "metadata": {}
  }
 ]
}